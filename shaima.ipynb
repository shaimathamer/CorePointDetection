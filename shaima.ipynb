{
  "nbformat": 4,
  "nbformat_minor": 0,
  "metadata": {
    "colab": {
      "name": "shaima.ipynb",
      "provenance": [],
      "authorship_tag": "ABX9TyNfHs/VS5tR3ijurx543qAt",
      "include_colab_link": true
    },
    "kernelspec": {
      "name": "python3",
      "display_name": "Python 3"
    }
  },
  "cells": [
    {
      "cell_type": "markdown",
      "metadata": {
        "id": "view-in-github",
        "colab_type": "text"
      },
      "source": [
        "<a href=\"https://colab.research.google.com/github/shaimathamer/CorePointDetection/blob/master/shaima.ipynb\" target=\"_parent\"><img src=\"https://colab.research.google.com/assets/colab-badge.svg\" alt=\"Open In Colab\"/></a>"
      ]
    },
    {
      "cell_type": "code",
      "metadata": {
        "id": "R7o0wOV9fvav",
        "outputId": "f58c1d9f-0eaa-496e-c345-86c5d30535a3",
        "colab": {
          "base_uri": "https://localhost:8080/",
          "height": 34
        }
      },
      "source": [
        "print(4)"
      ],
      "execution_count": null,
      "outputs": [
        {
          "output_type": "stream",
          "text": [
            "4\n"
          ],
          "name": "stdout"
        }
      ]
    },
    {
      "cell_type": "code",
      "metadata": {
        "id": "cDWxnYDwi2wx",
        "outputId": "e2eb90c7-384d-4bd5-b981-d06ffc02c25d",
        "colab": {
          "base_uri": "https://localhost:8080/",
          "height": 136
        }
      },
      "source": [
        "\n",
        "from numpy import *\n",
        "c=nu.array([range( i,i+3) for i in[2,4,7]])\n",
        "print(c)\n",
        "t=nu.random.random([1,2,3])\n",
        "print(c[1,2])x\n",
        "pp=random.randint(7,60,size=9)\n",
        "d=reshape(pp,(3,3))\n",
        "print(d"
      ],
      "execution_count": null,
      "outputs": [
        {
          "output_type": "stream",
          "text": [
            "[[2 3 4]\n",
            " [4 5 6]\n",
            " [7 8 9]]\n",
            "6\n",
            "[[ 7 43 21]\n",
            " [10 28 25]\n",
            " [49 10 18]]\n"
          ],
          "name": "stdout"
        }
      ]
    },
    {
      "cell_type": "code",
      "metadata": {
        "id": "ewV9Nr2TXVQz",
        "outputId": "1d95cce6-cc7d-44f1-d942-829ce9f506f2",
        "colab": {
          "base_uri": "https://localhost:8080/",
          "height": 421
        }
      },
      "source": [
        "from matplotlib.pyplot import *\n",
        "from numpy import *\n",
        "x=random.random((2,4))\n",
        "y=random.random((2,6))\n",
        "plot(x,y)\n"
      ],
      "execution_count": 14,
      "outputs": [
        {
          "output_type": "stream",
          "text": [
            "/usr/local/lib/python3.6/dist-packages/ipykernel_launcher.py:5: MatplotlibDeprecationWarning: cycling among columns of inputs with non-matching shapes is deprecated.\n",
            "  \"\"\"\n"
          ],
          "name": "stderr"
        },
        {
          "output_type": "execute_result",
          "data": {
            "text/plain": [
              "[<matplotlib.lines.Line2D at 0x7f6b713e2828>,\n",
              " <matplotlib.lines.Line2D at 0x7f6b713e2978>,\n",
              " <matplotlib.lines.Line2D at 0x7f6b713e2ac8>,\n",
              " <matplotlib.lines.Line2D at 0x7f6b713e2c18>,\n",
              " <matplotlib.lines.Line2D at 0x7f6b713e2d68>,\n",
              " <matplotlib.lines.Line2D at 0x7f6b713e2eb8>]"
            ]
          },
          "metadata": {
            "tags": []
          },
          "execution_count": 14
        },
        {
          "output_type": "display_data",
          "data": {
            "image/png": "[encoded data removed]",
            "text/plain": [
              "<Figure size 432x288 with 1 Axes>"
            ]
          },
          "metadata": {
            "tags": [],
            "needs_background": "light"
          }
        }
      ]
    },
    {
      "cell_type": "code",
      "metadata": {
        "id": "D_cJ18My5frv"
      },
      "source": [
        ""
      ],
      "execution_count": null,
      "outputs": []
    },
    {
      "cell_type": "code",
      "metadata": {
        "id": "CWC_Y7mZQ6rs",
        "outputId": "e4e77d8b-7ed6-42cd-85f9-5e0ea1ea47a1",
        "colab": {
          "base_uri": "https://localhost:8080/",
          "height": 34
        }
      },
      "source": [
        "def ave (a,b):\n",
        "  c=(a+b)/2 \n",
        "  print(c)\n",
        "c=ave(3,2)\n",
        "\n"
      ],
      "execution_count": null,
      "outputs": [
        {
          "output_type": "stream",
          "text": [
            "2.5\n"
          ],
          "name": "stdout"
        }
      ]
    },
    {
      "cell_type": "code",
      "metadata": {
        "id": "VPqCEzLrIiE3",
        "outputId": "4e9f220c-7a8e-4993-e5d1-c88cfe912548",
        "colab": {
          "base_uri": "https://localhost:8080/",
          "height": 51
        }
      },
      "source": [
        "def aveg(*number):\n",
        "  summ=sum(number)\n",
        "  return summ\n",
        "yy=aveg(1,2,4,6)\n",
        "print(yy)\n",
        "def saja(a,b,r):\n",
        "  cal=sum((a,b,r))/100\n",
        "  return cal\n",
        "rr=(1,2,4)\n",
        "saja(*rr)\n"
      ],
      "execution_count": null,
      "outputs": [
        {
          "output_type": "stream",
          "text": [
            "13\n"
          ],
          "name": "stdout"
        },
        {
          "output_type": "execute_result",
          "data": {
            "text/plain": [
              "0.07"
            ]
          },
          "metadata": {
            "tags": []
          },
          "execution_count": 10
        }
      ]
    },
    {
      "cell_type": "code",
      "metadata": {
        "id": "siicfRyEWfAj"
      },
      "source": [
        "def "
      ],
      "execution_count": null,
      "outputs": []
    },
    {
      "cell_type": "code",
      "metadata": {
        "id": "Z-HbImEOSWyi"
      },
      "source": [
        ""
      ],
      "execution_count": null,
      "outputs": []
    },
    {
      "cell_type": "code",
      "metadata": {
        "id": "IXscplUh4CzT",
        "outputId": "93564250-5c7d-4375-afd6-945c701b70c8",
        "colab": {
          "base_uri": "https://localhost:8080/",
          "height": 34
        }
      },
      "source": [
        "x=[1,2,3,4,5,6,6,6,8]\n",
        "w=[17,3,6,7]\n",
        "y=x\n",
        "z=w\n",
        "z.extend(y)\n",
        "print(z)"
      ],
      "execution_count": null,
      "outputs": [
        {
          "output_type": "stream",
          "text": [
            "[17, 3, 6, 7, 1, 2, 3, 4, 5, 6, 6, 6, 8]\n"
          ],
          "name": "stdout"
        }
      ]
    },
    {
      "cell_type": "code",
      "metadata": {
        "id": "xdH91g9EA8t5"
      },
      "source": [
        ""
      ],
      "execution_count": null,
      "outputs": []
    },
    {
      "cell_type": "code",
      "metadata": {
        "id": "msCjPLa1B6qf",
        "outputId": "8bbab8ee-be64-4658-a30d-cb68ab8e9ad8",
        "colab": {
          "base_uri": "https://localhost:8080/",
          "height": 34
        }
      },
      "source": [
        "y=[x**2 for x in range(12)]\n",
        "print(y)"
      ],
      "execution_count": null,
      "outputs": [
        {
          "output_type": "stream",
          "text": [
            "[0, 1, 4, 9, 16, 25, 36, 49, 64, 81, 100, 121]\n"
          ],
          "name": "stdout"
        }
      ]
    },
    {
      "cell_type": "code",
      "metadata": {
        "id": "49-QZa0WPnXp",
        "outputId": "ff120d40-2738-450f-e7bc-0b6943b9706b",
        "colab": {
          "base_uri": "https://localhost:8080/",
          "height": 54
        }
      },
      "source": [
        "dd=[(m,y,r) for m in range(3) for y in range(3) for r in range(3)]\n",
        "print(dd)"
      ],
      "execution_count": null,
      "outputs": [
        {
          "output_type": "stream",
          "text": [
            "[(0, 0, 0), (0, 0, 1), (0, 0, 2), (0, 1, 0), (0, 1, 1), (0, 1, 2), (0, 2, 0), (0, 2, 1), (0, 2, 2), (1, 0, 0), (1, 0, 1), (1, 0, 2), (1, 1, 0), (1, 1, 1), (1, 1, 2), (1, 2, 0), (1, 2, 1), (1, 2, 2), (2, 0, 0), (2, 0, 1), (2, 0, 2), (2, 1, 0), (2, 1, 1), (2, 1, 2), (2, 2, 0), (2, 2, 1), (2, 2, 2)]\n"
          ],
          "name": "stdout"
        }
      ]
    },
    {
      "cell_type": "code",
      "metadata": {
        "id": "vtQ3WwyeLuJy",
        "outputId": "1b85dc1c-bf4a-4bcc-e4d6-8d3d51b62c3e",
        "colab": {
          "base_uri": "https://localhost:8080/",
          "height": 34
        }
      },
      "source": [
        "y=(1,2,3,4)\n",
        "x=list(y)\n",
        "m=[3,9,0]\n",
        "m.extend(y)\n",
        "print(m)"
      ],
      "execution_count": null,
      "outputs": [
        {
          "output_type": "stream",
          "text": [
            "[3, 9, 0, 1, 2, 3, 4]\n"
          ],
          "name": "stdout"
        }
      ]
    },
    {
      "cell_type": "code",
      "metadata": {
        "id": "iW3gmjIMHD-0",
        "outputId": "a58ebf60-fce7-4624-c07a-e005b96ba606",
        "colab": {
          "base_uri": "https://localhost:8080/",
          "height": 187
        }
      },
      "source": [
        "tele={'yemen':'002','egypt':'004'}\n",
        "print(tele['yemen'])\n",
        "tele['yemen']='008'\n",
        "print(tele['yemen'])\n",
        "print(tele)\n",
        "print('yemen'in tele.values())\n",
        "del(tele['yemen'])\n",
        "print(tele)\n",
        "tele.clear()\n",
        "print(tele)\n",
        "y={'a','b','d'}\n",
        "yy=dict.fromkeys(y)\n",
        "yy['a']='1'\n",
        "yy['b']='2'\n",
        "yy['d']='4'\n",
        "print(yy)\n",
        "for m in yy.items():\n",
        "  print(m)\n"
      ],
      "execution_count": null,
      "outputs": [
        {
          "output_type": "stream",
          "text": [
            "002\n",
            "008\n",
            "{'yemen': '008', 'egypt': '004'}\n",
            "False\n",
            "{'egypt': '004'}\n",
            "{}\n",
            "{'b': '2', 'd': '4', 'a': '1'}\n",
            "('b', '2')\n",
            "('d', '4')\n",
            "('a', '1')\n"
          ],
          "name": "stdout"
        }
      ]
    },
    {
      "cell_type": "code",
      "metadata": {
        "id": "aX1XDer5w8mt",
        "outputId": "2627ac2e-3966-4f2d-95ac-8352fccb5996",
        "colab": {
          "base_uri": "https://localhost:8080/",
          "height": 51
        }
      },
      "source": [
        "y={'b': '2', 'd': '4', 'a': '1'}\n",
        "for n,u in y.items():\n",
        "  if int(u)>1:\n",
        "   print(n)"
      ],
      "execution_count": null,
      "outputs": [
        {
          "output_type": "stream",
          "text": [
            "b\n",
            "d\n"
          ],
          "name": "stdout"
        }
      ]
    },
    {
      "cell_type": "code",
      "metadata": {
        "id": "Ijwuf7z81AW1",
        "outputId": "58fb0d44-bf3f-44cd-ceb4-388897e5fd8d",
        "colab": {
          "base_uri": "https://localhost:8080/",
          "height": 51
        }
      },
      "source": [
        "while True:\n",
        "  a=int(input(\"number\"))\n",
        "  if a>10:\n",
        "    print(\"shator\")\n",
        "    break\n",
        "  else:\n",
        "    print(\"stubid\")"
      ],
      "execution_count": null,
      "outputs": [
        {
          "output_type": "stream",
          "text": [
            "number12\n",
            "shator\n"
          ],
          "name": "stdout"
        }
      ]
    },
    {
      "cell_type": "code",
      "metadata": {
        "id": "Pd4oELA53vZC",
        "outputId": "a09c707c-2de7-4563-de2a-c7c108248425",
        "colab": {
          "base_uri": "https://localhost:8080/",
          "height": 68
        }
      },
      "source": [
        "import statistics as st \n",
        "import random as ra\n",
        "b=[1,2,3,5]\n",
        "a=st.mean(b)\n",
        "print(a)\n",
        "t=st.median(b)\n",
        "print(t)\n",
        "n=ra.randint(1,20)\n",
        "print(n)"
      ],
      "execution_count": null,
      "outputs": [
        {
          "output_type": "stream",
          "text": [
            "2.75\n",
            "2.5\n",
            "11\n"
          ],
          "name": "stdout"
        }
      ]
    },
    {
      "cell_type": "code",
      "metadata": {
        "id": "dXwG6LuOB7q5",
        "outputId": "0879f85c-91c8-464f-d0c8-7c57a3c46945",
        "colab": {
          "base_uri": "https://localhost:8080/",
          "height": 51
        }
      },
      "source": [
        "kk=[\"shaima\",\"kkk\"]\n",
        "for c,value in enumerate(kk):\n",
        "  print(c,value)"
      ],
      "execution_count": null,
      "outputs": [
        {
          "output_type": "stream",
          "text": [
            "0 shaima\n",
            "1 kkk\n"
          ],
          "name": "stdout"
        }
      ]
    },
    {
      "cell_type": "code",
      "metadata": {
        "id": "0siJeR74Fe3Z",
        "outputId": "c851af05-d680-4a93-f2c5-939d42e64340",
        "colab": {
          "base_uri": "https://localhost:8080/",
          "height": 34
        }
      },
      "source": [
        "from operator import itemgetter\n",
        "student=[(\"shaoma\",\"egey\",22),(\"saja\",\"yeme\",7)]\n",
        "x=sorted(student,key=itemgetter(2))\n",
        "print(x)"
      ],
      "execution_count": null,
      "outputs": [
        {
          "output_type": "stream",
          "text": [
            "[('saja', 'yeme', 7), ('shaoma', 'egey', 22)]\n"
          ],
          "name": "stdout"
        }
      ]
    },
    {
      "cell_type": "code",
      "metadata": {
        "id": "Twk0U9ggaNuA"
      },
      "source": [
        "F=open('D:\\\\D IN LAB\\\\shaima cv\\\\1.text','w')"
      ],
      "execution_count": null,
      "outputs": []
    },
    {
      "cell_type": "code",
      "metadata": {
        "id": "W0bWZMz6id9m",
        "outputId": "340ac75a-e396-4d08-e861-7bcb5daccdcd",
        "colab": {
          "base_uri": "https://localhost:8080/",
          "height": 34
        }
      },
      "source": [
        "from google.colab import drive\n",
        "drive.mount('/content/gdrive', force_remount=False)"
      ],
      "execution_count": null,
      "outputs": [
        {
          "output_type": "stream",
          "text": [
            "Mounted at /content/gdrive\n"
          ],
          "name": "stdout"
        }
      ]
    },
    {
      "cell_type": "markdown",
      "metadata": {
        "id": "TKg0bmdGkjge"
      },
      "source": [
        "# try\n",
        "a='shaima'\n",
        "print(a[::])"
      ]
    },
    {
      "cell_type": "markdown",
      "metadata": {
        "id": "7p7FJD3LSl2N"
      },
      "source": [
        "# New Section"
      ]
    },
    {
      "cell_type": "markdown",
      "metadata": {
        "id": "V6qi5JlpHrXZ"
      },
      "source": [
        "# New Section"
      ]
    },
    {
      "cell_type": "markdown",
      "metadata": {
        "id": "qOjX91qaStqt"
      },
      "source": [
        "# New Section"
      ]
    },
    {
      "cell_type": "code",
      "metadata": {
        "id": "vbFbxN4QHt59",
        "outputId": "ff36d390-95ea-4287-94e6-2962ef2f818f",
        "colab": {
          "base_uri": "https://localhost:8080/",
          "height": 34
        }
      },
      "source": [
        "a='shaima' \n",
        "print(a[::])"
      ],
      "execution_count": null,
      "outputs": [
        {
          "output_type": "stream",
          "text": [
            "shaima\n"
          ],
          "name": "stdout"
        }
      ]
    },
    {
      "cell_type": "code",
      "metadata": {
        "id": "sz-UOeC-H2dD",
        "outputId": "fc1dd6e7-70de-40ab-b6b6-e28cd4b48704",
        "colab": {
          "base_uri": "https://localhost:8080/",
          "height": 34
        }
      },
      "source": [
        "print(a[1:4])"
      ],
      "execution_count": null,
      "outputs": [
        {
          "output_type": "stream",
          "text": [
            "hai\n"
          ],
          "name": "stdout"
        }
      ]
    },
    {
      "cell_type": "code",
      "metadata": {
        "id": "Z2K6VAlNIbSO",
        "outputId": "1a0b3074-5f1e-415c-907d-50bb643a1fd0",
        "colab": {
          "base_uri": "https://localhost:8080/",
          "height": 34
        }
      },
      "source": [
        "print(set(a))"
      ],
      "execution_count": null,
      "outputs": [
        {
          "output_type": "stream",
          "text": [
            "{'i', 'h', 's', 'm', 'a'}\n"
          ],
          "name": "stdout"
        }
      ]
    },
    {
      "cell_type": "code",
      "metadata": {
        "id": "mZNViOkvKEox",
        "outputId": "9deb7933-66dd-4ba6-c847-f8b44e650aaf",
        "colab": {
          "base_uri": "https://localhost:8080/",
          "height": 34
        }
      },
      "source": [
        "print(a.split('s'))"
      ],
      "execution_count": null,
      "outputs": [
        {
          "output_type": "stream",
          "text": [
            "['', 'haima']\n"
          ],
          "name": "stdout"
        }
      ]
    },
    {
      "cell_type": "code",
      "metadata": {
        "id": "LUJsbvdJK0Pw",
        "outputId": "a982a01e-abcf-4ff1-c6e3-f8e84d9fd776",
        "colab": {
          "base_uri": "https://localhost:8080/",
          "height": 34
        }
      },
      "source": [
        "print(a.splitlines())"
      ],
      "execution_count": null,
      "outputs": [
        {
          "output_type": "stream",
          "text": [
            "['shaima']\n"
          ],
          "name": "stdout"
        }
      ]
    },
    {
      "cell_type": "code",
      "metadata": {
        "id": "-OvH5K32NHpF",
        "outputId": "eadc10b8-501f-4d3c-9bfb-f97f8e7f5362",
        "colab": {
          "base_uri": "https://localhost:8080/",
          "height": 34
        }
      },
      "source": [
        "print(a.find('s'))"
      ],
      "execution_count": null,
      "outputs": [
        {
          "output_type": "stream",
          "text": [
            "0\n"
          ],
          "name": "stdout"
        }
      ]
    },
    {
      "cell_type": "code",
      "metadata": {
        "id": "-ZkwnxuqPB9D",
        "outputId": "a3f74fb6-c3dd-4964-ed05-0784cd7ab8e7",
        "colab": {
          "base_uri": "https://localhost:8080/",
          "height": 34
        }
      },
      "source": [
        "print(a.title())"
      ],
      "execution_count": null,
      "outputs": [
        {
          "output_type": "stream",
          "text": [
            "Shaima\n"
          ],
          "name": "stdout"
        }
      ]
    },
    {
      "cell_type": "code",
      "metadata": {
        "id": "E6cJ42UYenTo",
        "outputId": "0484bab6-4ad4-4e19-8af3-83c999e811bd",
        "colab": {
          "base_uri": "https://localhost:8080/",
          "height": 34
        }
      },
      "source": [
        "f=open(\"D:\\\\D IN LAB\\\\shaima cv\\\\1shaima.text\",'w')\n",
        "f.write('shhhhhhhh1')"
      ],
      "execution_count": null,
      "outputs": [
        {
          "output_type": "execute_result",
          "data": {
            "text/plain": [
              "10"
            ]
          },
          "metadata": {
            "tags": []
          },
          "execution_count": 5
        }
      ]
    }
  ]
}